{
  "cells": [
    {
      "cell_type": "markdown",
      "metadata": {
        "id": "view-in-github",
        "colab_type": "text"
      },
      "source": [
        "<a href=\"https://colab.research.google.com/github/sbarry0507/Ethereum-Price-Prediction/blob/main/Ethereum_Price_Prediction.ipynb\" target=\"_parent\"><img src=\"https://colab.research.google.com/assets/colab-badge.svg\" alt=\"Open In Colab\"/></a>"
      ]
    },
    {
      "cell_type": "code",
      "execution_count": null,
      "metadata": {
        "id": "VxnNOS_Vm1Em"
      },
      "outputs": [],
      "source": [
        "import pandas as pd\n",
        "import numpy as np\n",
        "from sklearn.svm import SVR # sklearn is library for machine learning and statistical modeling \n",
        "import matplotlib.pyplot as plt # collection of functions to plot at the end. Acts as MATLAB\n",
        "plt.style.use('fivethirtyeight') # type of styling"
      ]
    },
    {
      "cell_type": "code",
      "execution_count": null,
      "metadata": {
        "id": "Sk1Wf9ocnbeC"
      },
      "outputs": [],
      "source": [
        "# bringing in the data\n",
        "from google.colab import files\n",
        "files.upload()"
      ]
    },
    {
      "cell_type": "code",
      "execution_count": null,
      "metadata": {
        "id": "0fS-eWjCniUg"
      },
      "outputs": [],
      "source": [
        "# reading the data\n",
        "data = pd.read_csv('ETH_Price2.csv')\n",
        "data = data.set_index(pd.DatetimeIndex(data['Date'].values)) # changes first column to dates\n",
        "data"
      ]
    },
    {
      "cell_type": "code",
      "execution_count": null,
      "metadata": {
        "id": "FXvPxF3Y22_0"
      },
      "outputs": [],
      "source": [
        "# Creating new column showing price predicted future_days from that date\n",
        "future_days = 5\n",
        "data[str(future_days) + '_Day_Price_Forecast'] = data[['Close']].shift(-future_days)\n",
        "data\n"
      ]
    },
    {
      "cell_type": "code",
      "execution_count": null,
      "metadata": {
        "id": "7nT-9yOi3Bn4"
      },
      "outputs": [],
      "source": [
        "# Creating closing price data set (independent data set)\n",
        "\n",
        "x = np.array(data[['Close']])\n",
        "x = x[:data.shape[0] - future_days]  # everything up to the length of the data at position 0 excluding 'future days'\n",
        "print('Closing prices of ETH from 1/1/21 - 7/1/22')\n",
        "print(x)"
      ]
    },
    {
      "cell_type": "code",
      "execution_count": null,
      "metadata": {
        "id": "vb1lUQ8G5G5M"
      },
      "outputs": [],
      "source": [
        "# Creating dependent data set (5 day forecast values)\n",
        "y = np.array(data[str(future_days) + '_Day_Price_Forecast'])\n",
        "y = y[: - future_days]\n",
        "print(f'\\t\\t{future_days} Day forecasted value for ETH')\n",
        "print('\\tFirst value is 5th day after the start of dataset\\n')\n",
        "print(y)"
      ]
    },
    {
      "cell_type": "code",
      "execution_count": null,
      "metadata": {
        "id": "FhHtTmE75tIp"
      },
      "outputs": [],
      "source": [
        "from sklearn.model_selection import train_test_split\n",
        "x_train, x_test, y_train, y_test = train_test_split(x,y, test_size = 0.2) \n",
        "\n",
        "# 20% of data will be for testint, 80% will be for training\n",
        "# x_train includes all independent variables which will be used to train the model. test_size being = 0.2 means what is previously stated.\n",
        "# x_test is using the 20% of data not being used for training the model and will be used to make predictions\n",
        "# y_train is the dependent variable\n",
        "# y_test will be used to test accuracy between actual and predicted.  (done in two blocks down)"
      ]
    },
    {
      "cell_type": "code",
      "execution_count": null,
      "metadata": {
        "id": "lPtLBnKz6BB8"
      },
      "outputs": [],
      "source": [
        "# svm = support vector machines, svr = support vector regressor\n",
        "from sklearn.svm import SVR\n",
        "svr_rbf = SVR(kernel = 'rbf', C = 1e3, gamma = 0.00001)\n",
        "svr_rbf.fit(x_train, y_train)\n",
        "\n",
        "svr_rbf_confidence = svr_rbf.score(x_test, y_test)\n",
        "print('Support Vector Regressor RBF accuracy: ', svr_rbf_confidence * 100, 'percent.') # says model is X percent accurate on the test data"
      ]
    },
    {
      "cell_type": "code",
      "execution_count": null,
      "metadata": {
        "id": "VEy94tli6-L5"
      },
      "outputs": [],
      "source": [
        "svm_prediction = svr_rbf.predict(x_test)\n",
        "print('\\t\\t\\tPredicted ETH closing value\\n')\n",
        "print(svm_prediction)\n",
        "\n",
        "print('\\n\\t\\t\\tValues ETH actually closed at\\n')\n",
        "print(y_test)"
      ]
    },
    {
      "cell_type": "code",
      "execution_count": null,
      "metadata": {
        "id": "Qz36pmlD7MPA"
      },
      "outputs": [],
      "source": [
        "# Creating plot to better show data\n",
        "plt.figure(figsize = (20, 6))\n",
        "plt.plot(svm_prediction, label = 'Predicted', lw = 3, alpha = 0.5)\n",
        "plt.plot(y_test, label = 'Actual', lw = 3, alpha = 0.5)\n",
        "plt.title('Predicted vs Actual')\n",
        "plt.ylabel('Cost $')\n",
        "plt.xlabel('Days Gone By')\n",
        "plt.legend()\n",
        "plt.show()"
      ]
    }
  ],
  "metadata": {
    "colab": {
      "collapsed_sections": [],
      "name": "Ethereum Price Prediction.ipynb",
      "provenance": [],
      "authorship_tag": "ABX9TyOeo3C7EnM4oTvd1yu6nHsw",
      "include_colab_link": true
    },
    "kernelspec": {
      "display_name": "Python 3",
      "name": "python3"
    },
    "language_info": {
      "name": "python"
    }
  },
  "nbformat": 4,
  "nbformat_minor": 0
}